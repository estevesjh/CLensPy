{
 "cells": [
  {
   "cell_type": "markdown",
   "id": "5077b026",
   "metadata": {},
   "source": [
    "# CLensPy Tutorial: Getting Started\n",
    "\n",
    "Welcome to CLensPy! This tutorial will walk you through the basic functionality of the package.\n",
    "\n",
    "## What you'll learn:\n",
    "\n",
    "1. **Setting up CLensPy**: Import modules and basic configuration\n",
    "2. **NFW Profiles**: Create and work with dark matter halo profiles\n",
    "3. **Lensing Calculations**: Compute weak lensing observables\n",
    "4. **Coordinate Transformations**: Convert between angular and physical units\n",
    "5. **Visualization**: Plot and analyze results\n",
    "\n",
    "Let's get started!"
   ]
  },
  {
   "cell_type": "code",
   "execution_count": null,
   "id": "b2eb4881",
   "metadata": {},
   "outputs": [],
   "source": [
    "# Import standard libraries\n",
    "import numpy as np\n",
    "import matplotlib.pyplot as plt\n",
    "\n",
    "# Import CLensPy modules\n",
    "from clenspy.profiles import NFWProfile\n",
    "from clenspy.lensing import delta_sigma_nfw, shear_profile, critical_surface_density\n",
    "from clenspy.utils import angular_to_physical, physical_to_angular\n",
    "from clenspy.config import DEFAULT_COSMOLOGY\n",
    "\n",
    "# Set up plotting\n",
    "plt.style.use('default')\n",
    "plt.rcParams['figure.figsize'] = (10, 6)\n",
    "plt.rcParams['font.size'] = 12\n",
    "\n",
    "print(\"CLensPy imported successfully!\")\n",
    "print(f\"Default cosmology: {DEFAULT_COSMOLOGY}\")"
   ]
  }
 ],
 "metadata": {
  "language_info": {
   "name": "python"
  }
 },
 "nbformat": 4,
 "nbformat_minor": 5
}
